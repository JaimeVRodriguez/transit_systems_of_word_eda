{
 "cells": [
  {
   "cell_type": "code",
   "execution_count": null,
   "metadata": {},
   "outputs": [],
   "source": [
    "line plot\n",
    "\n",
    "fig, ax = plt.subplots()\n",
    "\n",
    "ax.plot(openings_per_country_df)\n",
    "ax.set_xlim(1833, 2023)\n",
    "ax.set_title(\"United States Transit Line Counts\")\n",
    "ax.set_ylabel(\"# of Stations per City\")\n",
    "ax.set_xlabel(\"Countries\")\n",
    "new_york_legend = mpatches.Patch(color= 'green', label='New York: 1148')\n",
    "boston_legend = mpatches.Patch(color= 'orange', label='Boston: 374')\n",
    "chicago_legend = mpatches.Patch(color= 'blue', label='Chicago: 171')\n",
    "washington_legend = mpatches.Patch(color= 'yellow', label='Washington: 171')\n",
    "los_angeles_legend = mpatches.Patch(color= 'purple', label='Los Angeles: 93')\n",
    "seattle_legend = mpatches.Patch(color= 'grey', label='Seattle: 27')\n",
    "cincinnati_legend = mpatches.Patch(color= 'red', label='Cincinnati: 17')\n",
    "plt.legend(handles=[new_york_legend, boston_legend, chicago_legend, washington_legend, los_angeles_legend, seattle_legend, cincinnati_legend ])\n",
    "ax.legend()\n",
    "fig.set_size_inches(16, 10)\n",
    "fig.tight_layout()\n"
   ]
  },
  {
   "cell_type": "code",
   "execution_count": null,
   "metadata": {},
   "outputs": [],
   "source": [
    "top 5\n",
    "ax.legend()\n",
    "ax.bar(top_five_countries.index, top_five_countries.values)\n",
    "fig.set_size_inches(16, 10)\n",
    "fig.tight_layout()"
   ]
  }
 ],
 "metadata": {
  "kernelspec": {
   "display_name": "base",
   "language": "python",
   "name": "python3"
  },
  "language_info": {
   "name": "python",
   "version": "3.9.13 (main, Aug 25 2022, 23:51:50) [MSC v.1916 64 bit (AMD64)]"
  },
  "orig_nbformat": 4,
  "vscode": {
   "interpreter": {
    "hash": "1cb90476bc24d453604818b6762447d545bdc5b06956cc60cc5c215292c5ccf2"
   }
  }
 },
 "nbformat": 4,
 "nbformat_minor": 2
}
